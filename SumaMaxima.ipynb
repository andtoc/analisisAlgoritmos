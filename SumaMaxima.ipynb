{
 "cells": [
  {
   "cell_type": "code",
   "execution_count": 7,
   "metadata": {
    "collapsed": true
   },
   "outputs": [],
   "source": [
    "import math\n",
    "import numpy as np\n",
    "import pylab as pl\n",
    "%matplotlib inline"
   ]
  },
  {
   "cell_type": "markdown",
   "metadata": {},
   "source": [
    "<h1>Trivial</h1>"
   ]
  },
  {
   "cell_type": "code",
   "execution_count": 8,
   "metadata": {
    "collapsed": true
   },
   "outputs": [],
   "source": [
    "def trivial(A):\n",
    "    suma=0\n",
    "    m=0\n",
    "    tamanoPivote=1\n",
    "    while(tamanoPivote<=len(A)):\n",
    "        for i in range(0,len(A)):\n",
    "            if(i+tamanoPivote<=len(A)):\n",
    "                for j in range(i,i+tamanoPivote):\n",
    "                    suma=suma+A[j]\n",
    "                    if(suma>m):\n",
    "                        m=suma\n",
    "                suma=0\n",
    "        tamanoPivote=tamanoPivote+1\n",
    "    return m"
   ]
  },
  {
   "cell_type": "code",
   "execution_count": 9,
   "metadata": {
    "collapsed": false
   },
   "outputs": [
    {
     "name": "stdout",
     "output_type": "stream",
     "text": [
      "[-2, 11, -4, 13, -5, -2]\n",
      "20\n"
     ]
    }
   ],
   "source": [
    "A = [-2,11,-4,13,-5,-2]\n",
    "print A\n",
    "m=trivial(A)\n",
    "print m"
   ]
  },
  {
   "cell_type": "markdown",
   "metadata": {},
   "source": [
    "<h1>Divide y vencerás </h1>"
   ]
  },
  {
   "cell_type": "code",
   "execution_count": 10,
   "metadata": {
    "collapsed": false
   },
   "outputs": [],
   "source": [
    "def maximo(a,b,c):\n",
    "    return max(max(a,b),c)\n",
    "\n",
    "def maximaSuma(A, l, m ,h):\n",
    "    suma=0\n",
    "    suma_izq=-999999\n",
    "    for i in range(m,l,-1):\n",
    "        suma=suma+A[i]\n",
    "        if (suma>suma_izq):\n",
    "            suma_izq=suma\n",
    "    suma=0\n",
    "    suma_der=-999999\n",
    "    \n",
    "    for i in range(m+1,h):\n",
    "        suma=suma+A[i]\n",
    "        if(suma>suma_der):\n",
    "            suma_der=suma\n",
    "    \n",
    "    return suma_izq+suma_der\n",
    "            \n",
    "        \n",
    "def sumaMaximaVector(A,l,h):\n",
    "    if(l==h):\n",
    "        return A[l]\n",
    "    m=(l+h)/2\n",
    "    \n",
    "    return maximo(sumaMaximaVector(A,l,m),sumaMaximaVector(A, m+1,h), maximaSuma(A,l,m,h))\n",
    "    \n",
    "\n"
   ]
  },
  {
   "cell_type": "code",
   "execution_count": 11,
   "metadata": {
    "collapsed": false
   },
   "outputs": [
    {
     "name": "stdout",
     "output_type": "stream",
     "text": [
      "[-2, 11, -4, 13, -5, -2]\n",
      "20\n"
     ]
    }
   ],
   "source": [
    "A = [-2,11,-4,13,-5,-2]\n",
    "print A\n",
    "m=sumaMaximaVector(A, 0, len(A)-1)\n",
    "print m"
   ]
  },
  {
   "cell_type": "markdown",
   "metadata": {},
   "source": [
    "<h1>Algoritmo Bentley</h1>"
   ]
  },
  {
   "cell_type": "code",
   "execution_count": 12,
   "metadata": {
    "collapsed": false
   },
   "outputs": [],
   "source": [
    "def sumaMax(A, p, u):\n",
    "    if (p>u):\n",
    "        return 0\n",
    "    if (p==u):\n",
    "        return max(0,A[p])\n",
    "    mitad=(p+u)/2\n",
    "    maxaux=max(sumaMax(A,p,mitad),sumaMax(A,mitad+1,u))\n",
    "    maxizq=0\n",
    "    suma=0\n",
    "    for i in range(mitad,p,-1):\n",
    "        suma=suma+A[i]\n",
    "        maxizq=max(maxizq,suma)\n",
    "    maxder=0\n",
    "    suma=0\n",
    "    for i in range(mitad+1,u):\n",
    "        suma=suma+A[i]\n",
    "        maxder=max(maxder,suma)\n",
    "    return max(maxder+maxizq,maxaux)\n",
    "    \n",
    "        "
   ]
  },
  {
   "cell_type": "code",
   "execution_count": 13,
   "metadata": {
    "collapsed": false
   },
   "outputs": [
    {
     "name": "stdout",
     "output_type": "stream",
     "text": [
      "[-2, 11, -4, 13, -5, -2]\n",
      "20\n"
     ]
    }
   ],
   "source": [
    "A = [-2,11,-4,13,-5,-2]\n",
    "print A\n",
    "m=sumaMax(A, 0, len(A)-1)\n",
    "print m"
   ]
  }
 ],
 "metadata": {
  "anaconda-cloud": {},
  "kernelspec": {
   "display_name": "Python 2",
   "language": "python",
   "name": "python2"
  },
  "language_info": {
   "codemirror_mode": {
    "name": "ipython",
    "version": 2
   },
   "file_extension": ".py",
   "mimetype": "text/x-python",
   "name": "python",
   "nbconvert_exporter": "python",
   "pygments_lexer": "ipython2",
   "version": "2.7.12"
  }
 },
 "nbformat": 4,
 "nbformat_minor": 1
}
