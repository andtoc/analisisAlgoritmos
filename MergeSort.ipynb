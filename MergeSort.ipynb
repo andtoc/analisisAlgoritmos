{
 "cells": [
  {
   "cell_type": "code",
   "execution_count": 58,
   "metadata": {
    "collapsed": true
   },
   "outputs": [],
   "source": [
    "import math\n",
    "import numpy as np\n",
    "import pylab as pl\n",
    "%matplotlib inline"
   ]
  },
  {
   "cell_type": "code",
   "execution_count": 59,
   "metadata": {
    "collapsed": false
   },
   "outputs": [],
   "source": [
    "def merge(a,b):\n",
    "    c = []\n",
    "    while (len(a) != 0 and len(b) != 0):\n",
    "        \n",
    "        if a[0] < b[0]:\n",
    "            \n",
    "            c.append(a[0])\n",
    "            a.remove(a[0])\n",
    "        else:\n",
    "            c.append(b[0])\n",
    "            b.remove(b[0])\n",
    "    if len(a) == 0:\n",
    "        c += b\n",
    "    else:\n",
    "        c += a\n",
    "    return c\n"
   ]
  },
  {
   "cell_type": "code",
   "execution_count": 60,
   "metadata": {
    "collapsed": true
   },
   "outputs": [],
   "source": [
    "def mergesort(x):\n",
    "  \n",
    "    if len(x) == 0 or len(x) == 1:\n",
    "        return x\n",
    "    else:\n",
    "        middle = len(x)/2\n",
    "        a = mergesort(x[:middle])\n",
    "        b = mergesort(x[middle:])\n",
    "        return merge(a,b)"
   ]
  },
  {
   "cell_type": "code",
   "execution_count": 61,
   "metadata": {
    "collapsed": false
   },
   "outputs": [
    {
     "name": "stdout",
     "output_type": "stream",
     "text": [
      "[1, 1, 2, 3, 4, 5, 7, 9]\n"
     ]
    }
   ],
   "source": [
    "A=[3,1,5,2,7,9,4,1]\n",
    "A=mergesort(A)\n",
    "print A"
   ]
  },
  {
   "cell_type": "markdown",
   "metadata": {},
   "source": [
    "<h1>Invariante</h1>\n"
   ]
  },
  {
   "cell_type": "code",
   "execution_count": 62,
   "metadata": {
    "collapsed": true
   },
   "outputs": [],
   "source": [
    "def invariante(A, copia):\n",
    "    a = list(A)\n",
    "    b = list(copia)\n",
    "    b.sort()\n",
    "    print \"Checking \", A,\" -> \", copia\n",
    "    return a == b"
   ]
  },
  {
   "cell_type": "code",
   "execution_count": 63,
   "metadata": {
    "collapsed": true
   },
   "outputs": [],
   "source": [
    "def inv_mergesort(A):\n",
    "    lista = list(A)\n",
    "    if len(A) < 2:\n",
    "        return A\n",
    "\n",
    "    edge = len(A)/2\n",
    "    der = inv_mergesort(A[int(edge):])\n",
    "    izq = inv_mergesort(A[:int(edge)])\n",
    "    \n",
    "\n",
    "    return inv_merge(izq, der, lista)\n",
    "\n",
    "def inv_merge(izq, der, lista):\n",
    "    i = 0\n",
    "    j = 0\n",
    "    A = []\n",
    "    \n",
    "    while (i < len(izq) and j < len(der)):\n",
    "        if(izq[i] < der[j]):\n",
    "            A.append(izq[i])\n",
    "            i += 1\n",
    "        else:\n",
    "            A.append(der[j])\n",
    "            j += 1\n",
    "            \n",
    "    A += izq[i:]\n",
    "    A += der[j:]\n",
    "    \n",
    "    print invariante(A, lista)\n",
    "\n",
    "    return A"
   ]
  },
  {
   "cell_type": "code",
   "execution_count": 64,
   "metadata": {
    "collapsed": false
   },
   "outputs": [
    {
     "name": "stdout",
     "output_type": "stream",
     "text": [
      "Checking  [1, 21]  ->  [21, 1]\n",
      "True\n",
      "Checking  [2, 13]  ->  [13, 2]\n",
      "True\n",
      "Checking  [1, 2, 13, 21]  ->  [13, 2, 21, 1]\n",
      "True\n",
      "Checking  [2, 4]  ->  [4, 2]\n",
      "True\n",
      "Checking  [1, 8]  ->  [1, 8]\n",
      "True\n",
      "Checking  [1, 2, 4, 8]  ->  [1, 8, 4, 2]\n",
      "True\n",
      "Checking  [1, 1, 2, 2, 4, 8, 13, 21]  ->  [1, 8, 4, 2, 13, 2, 21, 1]\n",
      "True\n",
      "[1, 1, 2, 2, 4, 8, 13, 21]\n"
     ]
    }
   ],
   "source": [
    "A = [1,8,4,2,13,2,21,1]\n",
    "A = inv_mergesort(A)\n",
    "print A"
   ]
  },
  {
   "cell_type": "code",
   "execution_count": 65,
   "metadata": {
    "collapsed": true
   },
   "outputs": [],
   "source": [
    "class Counter:\n",
    "    '''\n",
    "    Class Counter\n",
    "    Implements a step counter, which is used to compute the number of basic operations performed in\n",
    "    a particular call to a function.\n",
    "    '''\n",
    "    def __init__(self):\n",
    "        self.steps = 0\n",
    "\n",
    "    def reset(self):\n",
    "        self.steps = 0\n",
    "\n",
    "    def count(self):\n",
    "        self.steps += 1\n",
    "\n",
    "    def print_steps(self):\n",
    "        print \"Number of steps =\", self.steps\n",
    "        \n",
    "def acct_mergesort(x, acct):\n",
    "  \n",
    "    if len(x) == 0 or len(x) == 1:\n",
    "        acct.count()\n",
    "        return x\n",
    "        acct.count()\n",
    "    else:\n",
    "        acct.count()\n",
    "        middle = len(x)/2; acct.count()\n",
    "        a = mergesort(x[:middle]); acct.count()\n",
    "        b = mergesort(x[middle:]); acct.count()\n",
    "        return acct_merge(a,b, acct); acct.count()\n",
    "    \n",
    "def acct_merge(a,b, acct):\n",
    "    c = []\n",
    "    acct.count()\n",
    "    while (len(a) != 0 and len(b) != 0):\n",
    "        acct.count()\n",
    "        if a[0] < b[0]:\n",
    "            acct.count()\n",
    "            c.append(a[0]);acct.count()\n",
    "            a.remove(a[0]);acct.count()\n",
    "        else:\n",
    "            c.append(b[0]);acct.count()\n",
    "            b.remove(b[0]);acct.count()\n",
    "    if len(a) == 0:\n",
    "        acct.count()\n",
    "        c += b;acct.count()\n",
    "    else:\n",
    "        c += a;acct.count()\n",
    "    return c;acct.count()"
   ]
  },
  {
   "cell_type": "code",
   "execution_count": 66,
   "metadata": {
    "collapsed": true
   },
   "outputs": [],
   "source": [
    "import random as rnd\n",
    "\n",
    "def exper_analysis(n):\n",
    "    results = []\n",
    "    acct = Counter()\n",
    "    for i in range(n):\n",
    "        l = range(i)\n",
    "        rnd.shuffle(l)\n",
    "        acct.reset()\n",
    "        acct_mergesort(l, acct)\n",
    "        results.append(acct.steps)\n",
    "    return results"
   ]
  },
  {
   "cell_type": "code",
   "execution_count": 67,
   "metadata": {
    "collapsed": true
   },
   "outputs": [],
   "source": [
    "import time\n",
    "\n",
    "def time_analysis(n):\n",
    "    results = []\n",
    "    acct = Counter()\n",
    "    for i in range(n):\n",
    "        l = range(i)\n",
    "        rnd.shuffle(l)\n",
    "        tic = time.clock()#get start time\n",
    "        acct_mergesort(l, acct)\n",
    "        toc = time.clock()#get final time\n",
    "        results.append((toc-tic)*1000000)\n",
    "    return results"
   ]
  },
  {
   "cell_type": "code",
   "execution_count": 68,
   "metadata": {
    "collapsed": true
   },
   "outputs": [],
   "source": [
    "import random as ran\n",
    "\n",
    "def operation_analisis(n):\n",
    "    results=[]\n",
    "    for i in range(n):\n",
    "        if(i==0):\n",
    "            a=0\n",
    "        else:\n",
    "            \n",
    "            a = i*np.log2(i)\n",
    "        results.append(a)\n",
    "    \n",
    "    return results"
   ]
  },
  {
   "cell_type": "code",
   "execution_count": 69,
   "metadata": {
    "collapsed": false
   },
   "outputs": [
    {
     "data": {
      "text/plain": [
       "[<matplotlib.lines.Line2D at 0x7f4f325c34d0>]"
      ]
     },
     "execution_count": 69,
     "metadata": {},
     "output_type": "execute_result"
    },
    {
     "data": {
      "image/png": "[encoded data removed]",
      "text/plain": [
       "<matplotlib.figure.Figure at 0x7f4f324301d0>"
      ]
     },
     "metadata": {},
     "output_type": "display_data"
    }
   ],
   "source": [
    "pl.clf()\n",
    "x = np.arange(100)\n",
    "y = np.array(exper_analysis(100))\n",
    "pl.plot(x, y, 'k.')\n",
    "y = np.array(time_analysis(100))\n",
    "pl.plot(x, y, 'k.', color='b')\n",
    "y = np.array(operation_analisis(100))\n",
    "pl.plot(x, y, 'k.', color='r')"
   ]
  }
 ],
 "metadata": {
  "anaconda-cloud": {},
  "kernelspec": {
   "display_name": "Python 2",
   "language": "python",
   "name": "python2"
  },
  "language_info": {
   "codemirror_mode": {
    "name": "ipython",
    "version": 2
   },
   "file_extension": ".py",
   "mimetype": "text/x-python",
   "name": "python",
   "nbconvert_exporter": "python",
   "pygments_lexer": "ipython2",
   "version": "2.7.12"
  }
 },
 "nbformat": 4,
 "nbformat_minor": 1
}
