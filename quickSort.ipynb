{
 "cells": [
  {
   "cell_type": "code",
   "execution_count": 84,
   "metadata": {
    "collapsed": false
   },
   "outputs": [],
   "source": [
    "import math\n",
    "import numpy  as np\n",
    "import pylab as pl\n",
    "%matplotlib inline\n"
   ]
  },
  {
   "cell_type": "code",
   "execution_count": 85,
   "metadata": {
    "collapsed": true
   },
   "outputs": [],
   "source": [
    "def dividir(A, inicio, fin):\n",
    "    pivote=A[inicio]\n",
    "    izquierda=inicio\n",
    "    derecha=fin\n",
    "    \n",
    "    while izquierda<derecha:\n",
    "        while A[derecha]>pivote:\n",
    "            derecha=derecha-1\n",
    "        while (izquierda<derecha) and (A[izquierda]<=pivote):\n",
    "            izquierda=izquierda+1\n",
    "            \n",
    "        if izquierda<derecha:\n",
    "            aux=A[izquierda]\n",
    "            A[izquierda]=A[derecha]\n",
    "            A[derecha]=aux\n",
    "        \n",
    "    aux=A[derecha]\n",
    "    A[derecha]=A[inicio]\n",
    "    A[inicio]=aux\n",
    "        \n",
    "    return derecha\n",
    "            \n",
    "        \n",
    "    "
   ]
  },
  {
   "cell_type": "code",
   "execution_count": 86,
   "metadata": {
    "collapsed": true
   },
   "outputs": [],
   "source": [
    "def quickSort(A, inicio, fin):\n",
    "\n",
    "    if inicio<fin:\n",
    "        pivote=dividir(A, inicio, fin)\n",
    "        quickSort(A, inicio, pivote-1)\n",
    "        quickSort(A, pivote+1, fin)"
   ]
  },
  {
   "cell_type": "code",
   "execution_count": 87,
   "metadata": {
    "collapsed": false
   },
   "outputs": [
    {
     "name": "stdout",
     "output_type": "stream",
     "text": [
      "[1, 1, 2, 3, 4, 5, 7, 9]\n"
     ]
    }
   ],
   "source": [
    "A=[3,1,5,2,7,9,4,1]\n",
    "quickSort(A, 0, len(A)-1)\n",
    "print A"
   ]
  },
  {
   "cell_type": "markdown",
   "metadata": {},
   "source": [
    "<h1> Invariante </h1>"
   ]
  },
  {
   "cell_type": "code",
   "execution_count": 88,
   "metadata": {
    "collapsed": false
   },
   "outputs": [],
   "source": [
    "def invariante(numMin, numMax, pibote):\n",
    "    bandera = True;\n",
    "    \n",
    "    if(len(numMin)>=1):        \n",
    "        if(pibote[0] <= max(numMin)):\n",
    "            bandera = False;\n",
    "            \n",
    "    if(len(numMax)>=1):        \n",
    "        if(pibote[0] > min(numMax)):\n",
    "            bandera = False;\n",
    "        \n",
    "    print numMin, \" - \", pibote, \" - \", numMax\n",
    "        \n",
    "    return bandera"
   ]
  },
  {
   "cell_type": "code",
   "execution_count": 89,
   "metadata": {
    "collapsed": false
   },
   "outputs": [],
   "source": [
    "def inv_quickSort(A):\n",
    "\n",
    "    if len(A) < 2:\n",
    "        return A\n",
    "\n",
    "    izq, der, pibote = inv_dividir(A)\n",
    "\n",
    "    return inv_quickSort(izq) + pibote + inv_quickSort(der)\n",
    "\n",
    "def inv_dividir(A):\n",
    "\n",
    "    pibote = A[:1]\n",
    "\n",
    "    izq =[]\n",
    "    \n",
    "    der = []\n",
    "\n",
    "    for i in xrange(1, len(A)):\n",
    "        \n",
    "        if(A[i] < pibote[0]):\n",
    "        \n",
    "            izq.append(A[i])\n",
    "        else:\n",
    "            \n",
    "            der.append(A[i])\n",
    "            \n",
    "    print invariante(izq, der, pibote)\n",
    "    return izq,der, pibote"
   ]
  },
  {
   "cell_type": "code",
   "execution_count": 90,
   "metadata": {
    "collapsed": false
   },
   "outputs": [
    {
     "name": "stdout",
     "output_type": "stream",
     "text": [
      "[1, 2, 0]  -  [6]  -  [8, 9, 34, 10]\n",
      "True\n",
      "[0]  -  [1]  -  [2]\n",
      "True\n",
      "[]  -  [8]  -  [9, 34, 10]\n",
      "True\n",
      "[]  -  [9]  -  [34, 10]\n",
      "True\n",
      "[10]  -  [34]  -  []\n",
      "True\n",
      "[0, 1, 2, 6, 8, 9, 10, 34]\n"
     ]
    }
   ],
   "source": [
    "A = [6,1,8,9,2,34,10,0]\n",
    "A = inv_quickSort(A)\n",
    "print A"
   ]
  },
  {
   "cell_type": "code",
   "execution_count": 91,
   "metadata": {
    "collapsed": true
   },
   "outputs": [],
   "source": [
    "class Counter:\n",
    "    '''\n",
    "    Class Counter\n",
    "    Implements a step counter, which is used to compute the number of basic operations performed in\n",
    "    a particular call to a function.\n",
    "    '''\n",
    "    def __init__(self):\n",
    "        self.steps = 0\n",
    "\n",
    "    def reset(self):\n",
    "        self.steps = 0\n",
    "\n",
    "    def count(self):\n",
    "        self.steps += 1\n",
    "\n",
    "    def print_steps(self):\n",
    "        print \"Number of steps =\", self.steps\n",
    "        \n",
    "        \n",
    "def acct_quickSort(A, inicio, fin, acct):\n",
    "\n",
    "    if inicio<fin:\n",
    "        acct.count\n",
    "        pivote=acct_dividir(A, inicio, fin, acct);acct.count\n",
    "        quickSort(A, inicio, pivote-1);acct.count\n",
    "        quickSort(A, pivote+1, fin);acct.count\n",
    "        \n",
    "def acct_dividir(A, inicio, fin, acct):\n",
    "    pivote=A[inicio];acct.count\n",
    "    izquierda=inicio;acct.count\n",
    "    derecha=fin;acct.count\n",
    "    \n",
    "    while izquierda<derecha:\n",
    "        acct.count\n",
    "        while A[derecha]>pivote:\n",
    "            acct.count\n",
    "            derecha=derecha-1;acct.count\n",
    "        while (izquierda<derecha) and (A[izquierda]<=pivote):\n",
    "            acct.count\n",
    "            izquierda=izquierda+1;acct.count\n",
    "            \n",
    "        if izquierda<derecha:\n",
    "            acct.count\n",
    "            aux=A[izquierda];acct.count\n",
    "            A[izquierda]=A[derecha];acct.count\n",
    "            A[derecha]=aux;acct.count\n",
    "        \n",
    "    aux=A[derecha];acct.count\n",
    "    A[derecha]=A[inicio];acct.count\n",
    "    A[inicio]=aux;acct.count\n",
    "        \n",
    "    return derecha;acct.count\n",
    "            \n",
    "        \n"
   ]
  },
  {
   "cell_type": "code",
   "execution_count": 92,
   "metadata": {
    "collapsed": true
   },
   "outputs": [],
   "source": [
    "import random as rnd\n",
    "\n",
    "def exper_analysis(n):\n",
    "    results = []\n",
    "    acct = Counter()\n",
    "    for i in range(n):\n",
    "        l = range(i)\n",
    "        rnd.shuffle(l)\n",
    "        acct.reset()\n",
    "        acct_quickSort(l, 0, len(l)-1, acct)\n",
    "        results.append(acct.steps*1000000)\n",
    "    return results"
   ]
  },
  {
   "cell_type": "code",
   "execution_count": 93,
   "metadata": {
    "collapsed": false
   },
   "outputs": [],
   "source": [
    "import time\n",
    "\n",
    "def time_analysis(n):\n",
    "    results = []\n",
    "    acct = Counter()\n",
    "    for i in range(n):\n",
    "        l = range(i)\n",
    "        rnd.shuffle(l)\n",
    "        tic = time.clock()#get start time\n",
    "        acct_quickSort(l, 0, len(l)-1, acct)\n",
    "        toc = time.clock()#get final time\n",
    "        results.append((toc-tic)*1000000)\n",
    "    return results\n"
   ]
  },
  {
   "cell_type": "code",
   "execution_count": 94,
   "metadata": {
    "collapsed": true
   },
   "outputs": [],
   "source": [
    "import random as ran\n",
    "\n",
    "def operation_analisis(n):\n",
    "    results=[]\n",
    "    for i in range(n):\n",
    "        if(i==0):\n",
    "            a=0\n",
    "        else:\n",
    "            \n",
    "            a = i*np.log2(i)\n",
    "        results.append(a)\n",
    "    \n",
    "    return results"
   ]
  },
  {
   "cell_type": "code",
   "execution_count": 95,
   "metadata": {
    "collapsed": false
   },
   "outputs": [
    {
     "data": {
      "text/plain": [
       "[<matplotlib.lines.Line2D at 0x7fbd71e74bd0>]"
      ]
     },
     "execution_count": 95,
     "metadata": {},
     "output_type": "execute_result"
    },
    {
     "data": {
      "image/png": "[encoded data removed]",
      "text/plain": [
       "<matplotlib.figure.Figure at 0x7fbd71f5da50>"
      ]
     },
     "metadata": {},
     "output_type": "display_data"
    }
   ],
   "source": [
    "pl.clf()\n",
    "x = np.arange(100)\n",
    "y = np.array(exper_analysis(100))\n",
    "pl.plot(x, y, 'k.', color='y')\n",
    "y = np.array(time_analysis(100))\n",
    "pl.plot(x, y, 'k.', color='b')\n",
    "y = np.array(operation_analisis(100))\n",
    "pl.plot(x, y, 'k.', color='r')\n"
   ]
  }
 ],
 "metadata": {
  "anaconda-cloud": {},
  "kernelspec": {
   "display_name": "Python 2",
   "language": "python",
   "name": "python2"
  },
  "language_info": {
   "codemirror_mode": {
    "name": "ipython",
    "version": 2
   },
   "file_extension": ".py",
   "mimetype": "text/x-python",
   "name": "python",
   "nbconvert_exporter": "python",
   "pygments_lexer": "ipython2",
   "version": "2.7.12"
  }
 },
 "nbformat": 4,
 "nbformat_minor": 1
}
