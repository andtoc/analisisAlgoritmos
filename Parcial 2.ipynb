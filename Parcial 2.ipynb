{
 "cells": [
  {
   "cell_type": "markdown",
   "metadata": {},
   "source": [
    "<h1>Punto 1</h1>\n",
    "<br>\n",
    "<table>\n",
    "<th>Operacion</th><th>Z</th><th>Costo</th><th>Total</th>\n",
    "<tr><td>Inicio</td><td>algorithm</td><td>0</td><td>0</td></tr>\n",
    "<tr><td>Insertar(n)</td><td>anlgorithm</td><td>3</td><td>3</td></tr>\n",
    "<tr><td>Insertar(a)</td><td>analagorithm</td><td>3</td><td>6</td></tr>\n",
    "<tr><td>Derecha</td><td>analgorithm</td><td>0</td><td>6</td></tr>\n",
    "<tr><td>Derecha</td><td>analgorithm</td><td>0</td><td>6</td></tr>\n",
    "<tr><td>Reemplazar(por y)</td><td>analyorithm</td><td>4</td><td>10</td></tr>\n",
    "<tr><td>Reemplazar(por s)</td><td>analysrithm</td><td>4</td><td>14</td></tr>\n",
    "<tr><td>Reemplazar(por i)</td><td>analysiithm</td><td>4</td><td>18</td></tr>\n",
    "<tr><td>Reemplazar(por s)</td><td>analysisthm</td><td>4</td><td>22</td></tr>\n",
    "<tr><td>Eliminar</td><td>analysishm</td><td>2</td><td>24</td></tr>\n",
    "<tr><td>Eliminar</td><td>analysism</td><td>2</td><td>26</td></tr>\n",
    "<tr><td>Eliminar</td><td>analysis</td><td>2</td><td>28</td></tr>\n",
    "</table>"
   ]
  },
  {
   "cell_type": "markdown",
   "metadata": {},
   "source": [
    "<h1>Punto 2</h1>\n",
    "<br>\n",
    "<p>Hay una secuencia S que transforma x a y con coste d (x, y)\n",
    "Sin usar ninguna operación \"izquierda\" usando contradicción. Supongamos que no existe una secuencia\n",
    "S. Consideremos una secuencia S' que transforma x a y con costo d (x, y) que utiliza operaciones de \"izquierda\". Consideremos los caracteres insertados por las operaciones en S'. Si un caracter se inserta y luego se borra, ambas operaciones pueden ser borradas de S'para producir una secuencia S''que produzca el mismo resultado a menor costo. Si un carater 'a' se inserta y después se sustituye por un caracter b, entonces la operación de inserción puede ser\n",
    "cambiada por insertar b y la operación de reemplazo puede ser removida para producir una secuencia S''que produce el mismo resultado a menor costo. Si un carácter es reemplazado por un carácter a y luego reemplazado de nuevo por un carácter b, ambas operaciones pueden ser reemplazadas por \"reemplazar b\". Esto significa que todos los caracteres insertados y reemplazados nunca se cambian después de realizar una inserción o sustitución. Observe que después de eliminar estas operaciones\n",
    "que introducen dependencias, cualquier secuencia de insertar, eliminar y reemplazar pueden ocurrir de manera que se produzcan de izquierda a derecha sin afectar el resultado de la\n",
    "transformación.</p>"
   ]
  },
  {
   "cell_type": "markdown",
   "metadata": {},
   "source": [
    "<h1>Punto 3</h1>"
   ]
  },
  {
   "cell_type": "markdown",
   "metadata": {},
   "source": [
    "<p>Se muestra que la distancia de edición de cálculo para las cadenas x e y puede hacerse encontrando la distancia de subproblemas. Definir una función de costo Cxy (i, j) = d (x, y [1 .i]  x [j + 1 .m]) \n",
    "Es decir, cxy (i, j) es el coste mínimo de transformar los primeros caracteres j de x en los primeros i caracteres de y. Entonces d (x, y) = cxy (n, m). Ahora consideremos una secuencia de operaciones S =  o1, o2,. . . , O sub n  que transforma x a y con costo C (S) = d (x, y).\n",
    "Sea Si la subsecuencia de S que contiene las primeras operaciones de S. Sea zi la cadena auxiliar después de realizar las operaciones S sub i, donde z0 = x y zk = y.</p>"
   ]
  },
  {
   "cell_type": "markdown",
   "metadata": {},
   "source": [
    "<h1>Punto 5</h1>"
   ]
  },
  {
   "cell_type": "code",
   "execution_count": 291,
   "metadata": {
    "collapsed": false
   },
   "outputs": [],
   "source": [
    "def editar(m, n):\n",
    "    \n",
    "  \n",
    "    for i in range(m+1):\n",
    "           \n",
    "            A.append([])        \n",
    "            for j in range(n+1):\n",
    "                A[i].append(0)\n",
    "\n",
    "    for i in range(1,m):\n",
    "        A[i][0]=i\n",
    "        \n",
    "    for j in range(1,n):\n",
    "        A[0][j]=j\n",
    "        \n",
    "    for i in range(1,m):\n",
    "        for j in range(1,n):\n",
    "            if s1[i]==s2[j]:\n",
    "                \n",
    "                A[i][j]=A[i-1][j-1]\n",
    "            else:\n",
    "                A[i][j]=min(A[i-1][j-1]+1, min(A[i-1][j]+1,A[i][j-1]+1))\n",
    "            \n",
    "    return A[m][n]           \n",
    "        \n",
    "def trayectoria(i, j , caracter, dis):\n",
    "    dist=dis\n",
    "   \n",
    "\n",
    "    if A[i][j]<>0:\n",
    "        \n",
    "        if A[i-1][j]<A[i][j]:\n",
    "            dist=dist+2\n",
    "            trayectoria(i-1, j, 'e', dist)\n",
    "            \n",
    "        if A[i][j-1]<A[i][j]:\n",
    "            dist=dist+3\n",
    "            trayectoria(i, j-1, 'i', dist)\n",
    "            \n",
    "        if A[i-1][j-1]<A[i][j]:\n",
    "            dist=dist+4\n",
    "            trayectoria(i-1, j-1, 'r', dist)\n",
    "        if A[i-1][j-1]==A[i][j]:\n",
    "            trayectoria(i-1, j-1, ' ', dist)\n",
    "            \n",
    "        return dist\n",
    "            \n",
    "def main (x, y):\n",
    "        \n",
    "    print(editar(len(x),len(y)))\n",
    "    print(trayectoria(len(x)-1,len(y)-1, ' ', 0))\n"
   ]
  },
  {
   "cell_type": "markdown",
   "metadata": {},
   "source": [
    "<h1>Punto 6</h1>"
   ]
  },
  {
   "cell_type": "code",
   "execution_count": 292,
   "metadata": {
    "collapsed": true
   },
   "outputs": [],
   "source": [
    "s1=\"software engineering\"\n",
    "s2=\"computer science\"\n",
    "A=[]\n"
   ]
  },
  {
   "cell_type": "code",
   "execution_count": 293,
   "metadata": {
    "collapsed": false
   },
   "outputs": [
    {
     "name": "stdout",
     "output_type": "stream",
     "text": [
      "0\n",
      "9\n"
     ]
    }
   ],
   "source": [
    "main(s1, s2)\n"
   ]
  },
  {
   "cell_type": "code",
   "execution_count": null,
   "metadata": {
    "collapsed": true
   },
   "outputs": [],
   "source": []
  }
 ],
 "metadata": {
  "anaconda-cloud": {},
  "kernelspec": {
   "display_name": "Python [default]",
   "language": "python",
   "name": "python2"
  },
  "language_info": {
   "codemirror_mode": {
    "name": "ipython",
    "version": 2
   },
   "file_extension": ".py",
   "mimetype": "text/x-python",
   "name": "python",
   "nbconvert_exporter": "python",
   "pygments_lexer": "ipython2",
   "version": "2.7.12"
  }
 },
 "nbformat": 4,
 "nbformat_minor": 1
}
