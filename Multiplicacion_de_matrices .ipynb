{
 "cells": [
  {
   "cell_type": "code",
   "execution_count": 12,
   "metadata": {
    "collapsed": true
   },
   "outputs": [],
   "source": [
    "import math\n",
    "import numpy as np\n",
    "import pylab as pl\n",
    "%matplotlib inline"
   ]
  },
  {
   "cell_type": "code",
   "execution_count": 13,
   "metadata": {
    "collapsed": false
   },
   "outputs": [],
   "source": [
    "def mult (a,b, acct):\n",
    "    c = np.zeros(shape=(len(a),len(a)))\n",
    "    acct.count();\n",
    "    for i in range(0, len(a)):\n",
    "        for j in range(0, len(b)):\n",
    "            for k in range(0, len(a)):\n",
    "                c[i][j]+=a[i][k]*b[k][j]\n",
    "  \n",
    "    return c    \n"
   ]
  },
  {
   "cell_type": "code",
   "execution_count": null,
   "metadata": {
    "collapsed": true
   },
   "outputs": [],
   "source": [
    "class Counter:\n",
    "    '''\n",
    "    Class Counter\n",
    "    Implements a step counter, which is used to compute the number of basic operations performed in\n",
    "    a particular call to a function.\n",
    "    '''\n",
    "    def __init__(self):\n",
    "        self.steps = 0\n",
    "\n",
    "    def reset(self):\n",
    "        self.steps = 0\n",
    "\n",
    "    def count(self):\n",
    "        self.steps += 1\n",
    "\n",
    "    def print_steps(self):\n",
    "        print (\"Number of steps =\", self.steps)\n"
   ]
  },
  {
   "cell_type": "code",
   "execution_count": 14,
   "metadata": {
    "collapsed": true
   },
   "outputs": [],
   "source": [
    "def cuadrar (a, b):\n",
    "    if(len(a)%2 !=0):\n",
    "        for i in range(0, len(a)):\n",
    "            a[i].append(0)\n",
    "            b[i].append(0)\n",
    "        a.append([0]*len(a[0]))\n",
    "        b.append([0]*len(b[0]))\n",
    "        \n",
    "        \n",
    "    return a,b\n"
   ]
  },
  {
   "cell_type": "code",
   "execution_count": 15,
   "metadata": {
    "collapsed": false
   },
   "outputs": [],
   "source": [
    "def unir(a,b,c,d):\n",
    "    p = np.zeros(shape=(len(a)*2,len(a)*2))\n",
    "    for i in range(0,len(a)):\n",
    "        for j in range(0,len(a)):\n",
    "            p[i][j]=a[i][j]\n",
    "            p[i+len(a)][j]=c[i][j]\n",
    "            p[i][j+len(a)]=b[i][j]\n",
    "            p[i+len(a)][j+len(a)]=d[i][j]\n",
    "    return p\n",
    "        "
   ]
  },
  {
   "cell_type": "code",
   "execution_count": 16,
   "metadata": {
    "collapsed": false
   },
   "outputs": [],
   "source": [
    "def divideAndConquer(a,b, acct):\n",
    "    c = np.zeros(shape=(len(a),len(a)))\n",
    "    acct.count();\n",
    "    if(len(a)==2):\n",
    "        c=mult(a,b)\n",
    "        return c\n",
    "    else:\n",
    "        if(len(a)%2 !=0):\n",
    "            a,b=cuadrar(a,b)\n",
    "        a11 = np.zeros(shape=(len(a)/2,len(a)/2))\n",
    "        a12 = np.zeros(shape=(len(a)/2,len(a)/2))\n",
    "        a21 = np.zeros(shape=(len(a)/2,len(a)/2))\n",
    "        a22 = np.zeros(shape=(len(a)/2,len(a)/2))\n",
    "        b11 = np.zeros(shape=(len(a)/2,len(a)/2))\n",
    "        b12 = np.zeros(shape=(len(a)/2,len(a)/2))\n",
    "        b21 = np.zeros(shape=(len(a)/2,len(a)/2))\n",
    "        b22 = np.zeros(shape=(len(a)/2,len(a)/2))\n",
    "        \n",
    "        acct.count();\n",
    "        for i in range(0, len(a)/2):\n",
    "            for j in range(0,len(a)/2):\n",
    "                a11[i][j]=a[i][j]\n",
    "                b11[i][j]=b[i][j]\n",
    "        for i in range(0, len(a)/2):\n",
    "            for j in range(len(a)/2, len(a)):\n",
    "                a12[i][j-len(a)]=a[i][j]\n",
    "                b12[i][j-len(a)]=b[i][j]\n",
    "        for i in range(len(a)/2,len(a)):\n",
    "            for j in range(0,len(a)/2):\n",
    "                a21[i-len(a)][j]=a[i][j]\n",
    "                b21[i-len(a)][j]=b[i][j]\n",
    "        for i in range(len(a)/2,len(a)):\n",
    "            for j in range(len(a)/2,len(a)):\n",
    "                a22[i-len(a)][j-len(a)]=a[i][j]\n",
    "                b22[i-len(a)][j-len(a)]=b[i][j]\n",
    "        c11=mult(divideAndConquer(a11,b11),divideAndConquer(a12,b21))\n",
    "        c12=mult(divideAndConquer(a11,b12),divideAndConquer(a12,b22))\n",
    "        c21=mult(divideAndConquer(a21,b11),divideAndConquer(a22,b21))\n",
    "        c22=mult(divideAndConquer(a21,b12),divideAndConquer(a22,b22))\n",
    "        \n",
    "        c=unir(c11,c12,c21,c22)\n",
    "        return c"
   ]
  },
  {
   "cell_type": "code",
   "execution_count": null,
   "metadata": {
    "collapsed": true
   },
   "outputs": [],
   "source": [
    "def strassen(a, b, acct):\n",
    "    a = np.array(a)\n",
    "    b = np.array(b)\n",
    "    \n",
    "    if(len(a)%2!= 0):\n",
    "        a = np.insert(a, len(a), 0, axis=1)\n",
    "        a = np.insert(a, len(a), 0, axis=0)\n",
    "        b = np.insert(b, len(b), 0, axis=1)\n",
    "        b = np.insert(b, len(b), 0, axis=0)\n",
    "        acct.count();\n",
    "    if(len(a) == 2):\n",
    "        a11 = a[0,0]\n",
    "        a12 = a[0,1]\n",
    "        a21 = a[1,0]\n",
    "        a22 = a[1,1]\n",
    "        b11 = b[0,0]\n",
    "        b12 = b[0,1]\n",
    "        b21 = b[1,0]\n",
    "        b22 = b[1,1]\n",
    "        p1 = a11*(b12-b22); acct.count()\n",
    "        p2 = (a11+b12)*b22; acct.count()\n",
    "        p3 = (a21+a22)*b11; acct.count()\n",
    "        p4 = a22*(b21-b11); acct.count()\n",
    "        p5 = (a11+a22)*(b11+b22); acct.count()\n",
    "        p6 = (a12-a22)*(b21+b22); acct.count()\n",
    "        p7 = (a11-a21)*(b11+b12); acct.count()\n",
    "        s = p5+p4-p2+p6\n",
    "        t = p1+p2\n",
    "        u = p3+p4\n",
    "        v = p5+p1-p3-p7\n",
    "        return np.vstack((np.hstack((s,t)), np.hstack((u,v))))\n",
    "        \n",
    "        \n",
    "    a11, a12, a21, a22 = dividir(a, acct); acct.count()\n",
    "    b11, b12, b21, b22 = dividir(b, acct); acct.count()\n",
    "    \n",
    "    p1 = strassen(a,(f-h), acct); acct.count()\n",
    "    p2 = strassen((a+b),h, acct); acct.count()\n",
    "    p3 = strassen((c+d),e, acct); acct.count()\n",
    "    p4 = strassen(d,(g-e), acct); acct.count()\n",
    "    p5 = strassen((a+d),(e+h), acct); acct.count()\n",
    "    p6 = strassen((b-d),(g+h), acct); acct.count()\n",
    "    p7 = strassen((a-c),(e+f), acct); acct.count()\n",
    "    s = p5+p4-p2+p6\n",
    "    t = p1+p2\n",
    "    u = p3+p4\n",
    "    v = p5+p1-p3-p7\n",
    "    \n",
    "    return np.vstack((np.hstack((s, t)), np.hstack((u, v))))\n",
    "\n",
    "def dividir(A, acct):\n",
    "    \n",
    "    tam = int((len(A))/2)    \n",
    "    a = A[0:tam, 0:tam]    \n",
    "    b = A[0:tam, tam:]\n",
    "    c = A[tam:, 0:tam]\n",
    "    d = A[tam:,tam:]\n",
    "    return a, b, c, d"
   ]
  },
  {
   "cell_type": "code",
   "execution_count": 17,
   "metadata": {
    "collapsed": false
   },
   "outputs": [
    {
     "data": {
      "text/plain": [
       "([[3, 7, 1, 0], [0, 3, 3, 0], [2, 4, 5, 0], [0, 0, 0, 0]],\n",
       " [[1, 6, 8, 0], [8, 8, 6, 0], [2, 6, 3, 0], [0, 0, 0, 0]],\n",
       " array([[  562.,  1686.,   198.,     0.],\n",
       "        [  192.,   576.,    54.,     0.],\n",
       "        [  340.,  1020.,   600.,     0.],\n",
       "        [    0.,     0.,     0.,     0.]]))"
      ]
     },
     "execution_count": 17,
     "metadata": {},
     "output_type": "execute_result"
    }
   ],
   "source": [
    "a=np.random.randint(9, size=(3,3))\n",
    "a=a.tolist()\n",
    "b=np.random.randint(9, size=(3,3))\n",
    "b=b.tolist()\n",
    "acct=Counter()\n",
    "c=mult(a,b, acct)\n",
    "a,b,c"
   ]
  },
  {
   "cell_type": "code",
   "execution_count": null,
   "metadata": {
    "collapsed": true
   },
   "outputs": [],
   "source": [
    "a=np.random.randint(9, size=(3,3))\n",
    "a=a.tolist()\n",
    "b=np.random.randint(9, size=(3,3))\n",
    "b=b.tolist()\n",
    "acct=Counter()\n",
    "c=strassen(a,b, acct)\n",
    "a,b,c"
   ]
  },
  {
   "cell_type": "code",
   "execution_count": null,
   "metadata": {
    "collapsed": true
   },
   "outputs": [],
   "source": [
    "a=np.random.randint(9, size=(3,3))\n",
    "a=a.tolist()\n",
    "b=np.random.randint(9, size=(3,3))\n",
    "b=b.tolist()\n",
    "acct=Counter()\n",
    "c=divideAndConquer(a,b, acct)\n",
    "a,b,c"
   ]
  },
  {
   "cell_type": "code",
   "execution_count": null,
   "metadata": {
    "collapsed": true
   },
   "outputs": [],
   "source": [
    "import random as rnd\n",
    "\n",
    "def analisis_mult(n):\n",
    "    results = []\n",
    "    acct = Counter()\n",
    "    for i in range(2,n):\n",
    "        a = np.random.randint(10, size=(i,i))\n",
    "        b = np.random.randint(10, size=(i,i))\n",
    "        acct.reset()\n",
    "        mult(a,b,acct)\n",
    "        results.append(acct.steps)\n",
    "    return results\n"
   ]
  },
  {
   "cell_type": "code",
   "execution_count": null,
   "metadata": {
    "collapsed": true
   },
   "outputs": [],
   "source": [
    "import random as rnd\n",
    "\n",
    "def analisis_DYC(n):\n",
    "    results = []\n",
    "    acct = Counter()\n",
    "    for i in range(2,n):\n",
    "        a = np.random.randint(10, size=(i,i))\n",
    "        b = np.random.randint(10, size=(i,i))\n",
    "        acct.reset()\n",
    "        divideAndConquer(a,b,acct)\n",
    "        results.append(acct.steps)\n",
    "    return results"
   ]
  },
  {
   "cell_type": "code",
   "execution_count": null,
   "metadata": {
    "collapsed": true
   },
   "outputs": [],
   "source": [
    "import random as rnd\n",
    "\n",
    "def analisis_strassen(n):\n",
    "    results = []\n",
    "    acct = Counter()\n",
    "    for i in range(2,n):\n",
    "        a = np.random.randint(10, size=(i,i))\n",
    "        b = np.random.randint(10, size=(i,i))\n",
    "        acct.reset()\n",
    "        strassen(a,b,acct)\n",
    "        results.append(acct.steps)\n",
    "    return results"
   ]
  },
  {
   "cell_type": "code",
   "execution_count": null,
   "metadata": {
    "collapsed": true
   },
   "outputs": [],
   "source": [
    "pl.clf()\n",
    "x = np.arange(98)\n",
    "y = np.array(analisis_mult(100))\n",
    "pl.plot(x, y, 'k.', color ='r')\n",
    "z = np.array(analisis_DYC(100))\n",
    "pl.plot(x, z, 'k.', color='c')\n",
    "w = np.array(analisis_strassen(100))\n",
    "pl.plot(x, w, 'k.', color='g')\n"
   ]
  }
 ],
 "metadata": {
  "kernelspec": {
   "display_name": "Python 2",
   "language": "python",
   "name": "python2"
  },
  "language_info": {
   "codemirror_mode": {
    "name": "ipython",
    "version": 2
   },
   "file_extension": ".py",
   "mimetype": "text/x-python",
   "name": "python",
   "nbconvert_exporter": "python",
   "pygments_lexer": "ipython2",
   "version": "2.7.12"
  }
 },
 "nbformat": 4,
 "nbformat_minor": 1
}
