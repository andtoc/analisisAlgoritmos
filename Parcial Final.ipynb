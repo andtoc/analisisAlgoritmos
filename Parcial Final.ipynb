{
 "cells": [
  {
   "cell_type": "code",
   "execution_count": 61,
   "metadata": {
    "collapsed": false
   },
   "outputs": [],
   "source": [
    "import math\n",
    "import numpy as np\n",
    "import pylab as pl\n",
    "%matplotlib inline"
   ]
  },
  {
   "cell_type": "code",
   "execution_count": 62,
   "metadata": {
    "collapsed": false
   },
   "outputs": [],
   "source": [
    "class Counter:\n",
    "    '''\n",
    "    Class Counter\n",
    "    Implements a step counter, which is used to compute the number of basic operations performed in\n",
    "    a particular call to a function.\n",
    "    '''\n",
    "    def __init__(self):\n",
    "        self.steps = 0\n",
    "\n",
    "    def reset(self):\n",
    "        self.steps = 0\n",
    "\n",
    "    def count(self):\n",
    "        self.steps += 1\n",
    "\n",
    "    def print_steps(self):\n",
    "        print (\"Number of steps =\", self.steps)\n",
    "        \n",
    "def acct_insertion_sort(A, acct):\n",
    "    j = 1; acct.count()\n",
    "    acct.count()\n",
    "    while j < len(A):\n",
    "        acct.count()\n",
    "        key = A[j]; acct.count()\n",
    "        i = j - 1; acct.count()\n",
    "        acct.count()\n",
    "        while (i >= 0) and (A[i] > key):\n",
    "            acct.count()\n",
    "            A[i + 1] = A[i]; acct.count()\n",
    "            i = i -1; acct.count()\n",
    "        A[i + 1] = key; acct.count()\n",
    "        j = j + 1; acct.count()"
   ]
  },
  {
   "cell_type": "markdown",
   "metadata": {},
   "source": [
    "<h1>Punto 1</h1>"
   ]
  },
  {
   "cell_type": "code",
   "execution_count": 63,
   "metadata": {
    "collapsed": false
   },
   "outputs": [],
   "source": [
    "def colineales(X,Y, acct):\n",
    "    p=1\n",
    "    a=[]\n",
    "    D= [[0 for i in range(len(X))] for i in range(len(X))]\n",
    "    for i in range(0, len(X)):\n",
    "        for j in range(0, len(X)):\n",
    "            if i!=j:\n",
    "                D[i][j]=math.sqrt(((X[j]-X[i])**2)+((Y[j]-Y[i])**2)); acct.count();\n",
    "    for i in range(0, len(X)):\n",
    "        for j in range(0, len(X)):\n",
    "            if i!=j:\n",
    "                Pmax=D[i][j]; acct.count();\n",
    "                for k in range(0,len(X)):\n",
    "                    if k!=i and k!=j:\n",
    "                        \n",
    "                        Pmin1=D[j][k]; acct.count();\n",
    "                        Pmin2=D[i][k]; \n",
    "                        if Pmax==Pmin1+Pmin2:\n",
    "                            a.append((i+1,j+1,k+1)); acct.count();\n",
    "                            p=0\n",
    "                            s=\"si\"\n",
    "                        else: \n",
    "                            if p!=0:\n",
    "                                b=0; acct.count();                                \n",
    "              \n",
    "    return a"
   ]
  },
  {
   "cell_type": "markdown",
   "metadata": {},
   "source": [
    "<h3>Ejemplo 1</h3>"
   ]
  },
  {
   "cell_type": "code",
   "execution_count": 64,
   "metadata": {
    "collapsed": false
   },
   "outputs": [
    {
     "name": "stdout",
     "output_type": "stream",
     "text": [
      "('Number of steps =', 121)\n",
      "('Los puntos ', [(2, 4, 3), (4, 2, 3)], 'son colineales')\n"
     ]
    }
   ],
   "source": [
    "X=[1, 4, 6, 9, 5]\n",
    "Y=[2, 4, 6, 9, 11]\n",
    "acct = Counter()\n",
    "res=colineales(X, Y, acct)\n",
    "acct.print_steps()\n",
    "if not res:\n",
    "    print (\"No hay puntos colineales\")\n",
    "else:\n",
    "    print (\"Los puntos \",res, \"son colineales\")\n"
   ]
  },
  {
   "cell_type": "markdown",
   "metadata": {},
   "source": [
    "<h3>Ejemplo 2</h3>"
   ]
  },
  {
   "cell_type": "code",
   "execution_count": 65,
   "metadata": {
    "collapsed": false
   },
   "outputs": [
    {
     "name": "stdout",
     "output_type": "stream",
     "text": [
      "('Number of steps =', 160)\n",
      "No hay puntos colineales\n"
     ]
    }
   ],
   "source": [
    "X=[1, 5, 6, 9, 5]\n",
    "Y=[2, 4, 6, 9, 11]\n",
    "acct = Counter()\n",
    "res=colineales(X, Y, acct)\n",
    "acct.print_steps()\n",
    "if not res:\n",
    "    print (\"No hay puntos colineales\")\n",
    "else:\n",
    "    print (\"Los puntos \",res, \"son colineales\")"
   ]
  },
  {
   "cell_type": "code",
   "execution_count": 66,
   "metadata": {
    "collapsed": true
   },
   "outputs": [],
   "source": [
    "import random as rnd\n",
    "\n",
    "def exper_analysis(n):\n",
    "    results = []\n",
    "    acct = Counter()\n",
    "    for i in range(1,n):\n",
    "        X = range(i)\n",
    "        Y = range(i)\n",
    "        acct.reset()\n",
    "        res=colineales(X, Y, acct)\n",
    "        results.append(acct.steps)\n",
    "    return results"
   ]
  },
  {
   "cell_type": "code",
   "execution_count": 67,
   "metadata": {
    "collapsed": false
   },
   "outputs": [
    {
     "name": "stdout",
     "output_type": "stream",
     "text": [
      "[0, 4, 21, 54, 111, 204, 333, 514, 747]\n"
     ]
    }
   ],
   "source": [
    "print (exper_analysis(10))"
   ]
  },
  {
   "cell_type": "code",
   "execution_count": 68,
   "metadata": {
    "collapsed": true
   },
   "outputs": [],
   "source": [
    "import time\n",
    "\n",
    "def time_analysis(n):\n",
    "    results = []\n",
    "    acct = Counter()\n",
    "    for i in range(1,n):\n",
    "        X = range(i)\n",
    "        Y = range(i)\n",
    "        acct.reset()\n",
    "        tic = time.clock()#get start time\n",
    "        res=colineales(X, Y, acct)\n",
    "        toc = time.clock()#get final time\n",
    "        results.append((toc-tic)*100000)        \n",
    "    return results\n"
   ]
  },
  {
   "cell_type": "code",
   "execution_count": 69,
   "metadata": {
    "collapsed": false
   },
   "outputs": [
    {
     "name": "stdout",
     "output_type": "stream",
     "text": [
      "[1.1999999999900979, 3.6999999999842714, 7.5999999999964984, 16.09999999998557, 29.799999999990945, 51.09999999999282, 82.49999999998536, 121.70000000000236, 171.70000000001906]\n"
     ]
    }
   ],
   "source": [
    "print (time_analysis(10))"
   ]
  },
  {
   "cell_type": "code",
   "execution_count": 70,
   "metadata": {
    "collapsed": true
   },
   "outputs": [],
   "source": [
    "import random as ran\n",
    "\n",
    "def operation_analysis(n):\n",
    "    results=[]\n",
    "    for i in range(1,n):\n",
    "        l=i*i*np.log(i)\n",
    "        results.append(l)\n",
    "    \n",
    "    return results\n"
   ]
  },
  {
   "cell_type": "code",
   "execution_count": 71,
   "metadata": {
    "collapsed": false
   },
   "outputs": [
    {
     "name": "stdout",
     "output_type": "stream",
     "text": [
      "[0.0, 2.7725887222397811, 9.8875105980129874, 22.180709777918249, 40.235947810852508, 64.503340892209977, 95.349597303710354, 133.08425866750949, 177.97519076423379]\n"
     ]
    }
   ],
   "source": [
    "print (operation_analysis(10))"
   ]
  },
  {
   "cell_type": "markdown",
   "metadata": {},
   "source": [
    "<h1>Punto 2</h1>"
   ]
  },
  {
   "cell_type": "code",
   "execution_count": 72,
   "metadata": {
    "collapsed": false
   },
   "outputs": [],
   "source": [
    "def simple(X,Y, acct):\n",
    "    inter=1\n",
    "    for i in range(0, len(X)):\n",
    "        for j in range(i+1, len(X)):\n",
    "            for k in range(j+1, len(X)):\n",
    "                    Ia=max(min(X[i],X[j]),min(X[j],X[k])); acct.count();\n",
    "                    Ib=min(max(X[i],X[j]),max(X[j],X[k])); acct.count();\n",
    "                    \n",
    "                    if((X[i]-X[j])!=0 and (X[j]-X[k])!=0):\n",
    "                        a1=(Y[i]-Y[j])/(X[i]-X[j]); acct.count();\n",
    "                        a2=(Y[j]-Y[k])/(X[j]-X[k]); acct.count();\n",
    "                        b1=Y[i]-a1*X[i]; acct.count();\n",
    "                        b2=Y[j]-a2*X[j]; acct.count();\n",
    "                        \n",
    "                        if (a1-a2!=0):\n",
    "                            xa=(b2-b1)/(a1-a2); acct.count();\n",
    "                            if (xa<Ia or xa>Ib):\n",
    "                                \n",
    "                                inter=0\n",
    "                            \n",
    "                                \n",
    "                                \n",
    "                   \n",
    "                                \n",
    "    if inter==1:\n",
    "        return \"Es simple\"\n",
    "    else:        \n",
    "        return \"No es simple\""
   ]
  },
  {
   "cell_type": "markdown",
   "metadata": {},
   "source": [
    "<h3>Ejemplo 1</h3>"
   ]
  },
  {
   "cell_type": "code",
   "execution_count": 73,
   "metadata": {
    "collapsed": false
   },
   "outputs": [
    {
     "name": "stdout",
     "output_type": "stream",
     "text": [
      "('Number of steps =', 131)\n",
      "No es simple\n"
     ]
    }
   ],
   "source": [
    "X=[1, 4, 9, 11, 2, 1]\n",
    "Y=[1, 4, 9, 5, 4,1]\n",
    "acct = Counter()\n",
    "res=simple(X,Y, acct)\n",
    "acct.print_steps()\n",
    "print res"
   ]
  },
  {
   "cell_type": "markdown",
   "metadata": {},
   "source": [
    "<h3>Ejemplo 2</h3>"
   ]
  },
  {
   "cell_type": "code",
   "execution_count": 74,
   "metadata": {
    "collapsed": false
   },
   "outputs": [
    {
     "name": "stdout",
     "output_type": "stream",
     "text": [
      "('Number of steps =', 126)\n",
      "Es simple\n"
     ]
    }
   ],
   "source": [
    "X=[1, 4, 9,11,14, 1]\n",
    "Y=[1, 4, 9,9 ,10, 1]\n",
    "acct = Counter()\n",
    "res=simple(X,Y, acct)\n",
    "acct.print_steps()\n",
    "print res"
   ]
  },
  {
   "cell_type": "code",
   "execution_count": 75,
   "metadata": {
    "collapsed": true
   },
   "outputs": [],
   "source": [
    "import random as rnd\n",
    "\n",
    "def exper_analysis(n):\n",
    "    results = []\n",
    "    acct = Counter()\n",
    "    for i in range(1,n):\n",
    "        X = range(i)\n",
    "        Y = range(i)\n",
    "        acct.reset()\n",
    "        res=simple(X, Y, acct)\n",
    "        results.append(acct.steps)\n",
    "    return results"
   ]
  },
  {
   "cell_type": "code",
   "execution_count": 76,
   "metadata": {
    "collapsed": false
   },
   "outputs": [
    {
     "name": "stdout",
     "output_type": "stream",
     "text": [
      "[0, 0, 6, 24, 60, 120, 210, 336, 504]\n"
     ]
    }
   ],
   "source": [
    "print (exper_analysis(10))"
   ]
  },
  {
   "cell_type": "code",
   "execution_count": 77,
   "metadata": {
    "collapsed": true
   },
   "outputs": [],
   "source": [
    "import time\n",
    "\n",
    "def time_analysis(n):\n",
    "    results = []\n",
    "    acct = Counter()\n",
    "    for i in range(1,n):\n",
    "        X = range(i)\n",
    "        Y = range(i)\n",
    "        acct.reset()\n",
    "        tic = time.clock()#get start time\n",
    "        res=simple(X, Y, acct)\n",
    "        toc = time.clock()#get final time\n",
    "        results.append((toc-tic)*100000)        \n",
    "    return results\n"
   ]
  },
  {
   "cell_type": "code",
   "execution_count": 78,
   "metadata": {
    "collapsed": false
   },
   "outputs": [
    {
     "name": "stdout",
     "output_type": "stream",
     "text": [
      "[1.3000000000040757, 0.5999999999950489, 3.6999999999842714, 9.499999999995623, 20.49999999997887, 37.69999999998497, 65.09999999999572, 101.19999999997908, 150.60000000000073]\n"
     ]
    }
   ],
   "source": [
    "print (time_analysis(10))"
   ]
  },
  {
   "cell_type": "code",
   "execution_count": 79,
   "metadata": {
    "collapsed": true
   },
   "outputs": [],
   "source": [
    "import random as ran\n",
    "\n",
    "def operation_analysis(n):\n",
    "    results=[]\n",
    "    for i in range(1,n):\n",
    "        l=i*np.log(i)\n",
    "        results.append(l)    \n",
    "    return results"
   ]
  },
  {
   "cell_type": "code",
   "execution_count": 80,
   "metadata": {
    "collapsed": false
   },
   "outputs": [
    {
     "name": "stdout",
     "output_type": "stream",
     "text": [
      "[0.0, 1.3862943611198906, 3.2958368660043291, 5.5451774444795623, 8.0471895621705016, 10.750556815368331, 13.621371043387192, 16.635532333438686, 19.775021196025975]\n"
     ]
    }
   ],
   "source": [
    "print (operation_analysis(10))"
   ]
  }
 ],
 "metadata": {
  "anaconda-cloud": {},
  "kernelspec": {
   "display_name": "Python 2",
   "language": "python",
   "name": "python2"
  },
  "language_info": {
   "codemirror_mode": {
    "name": "ipython",
    "version": 2
   },
   "file_extension": ".py",
   "mimetype": "text/x-python",
   "name": "python",
   "nbconvert_exporter": "python",
   "pygments_lexer": "ipython2",
   "version": "2.7.12"
  }
 },
 "nbformat": 4,
 "nbformat_minor": 1
}
